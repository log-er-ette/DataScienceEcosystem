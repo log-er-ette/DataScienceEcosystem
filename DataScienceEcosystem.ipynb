{
 "cells": [
  {
   "cell_type": "markdown",
   "id": "62833f3e-6c72-47c0-8cc8-1e65945290d5",
   "metadata": {},
   "source": [
    "\n",
    "# Data Science Tools and Ecosystem"
   ]
  },
  {
   "cell_type": "markdown",
   "id": "4d5e174f-ddda-4ed8-af6a-288ea08d9555",
   "metadata": {},
   "source": [
    "## Arthur: Patricia Clark"
   ]
  },
  {
   "cell_type": "markdown",
   "id": "907dcad1-2623-49a3-88c1-7b656f3e5522",
   "metadata": {},
   "source": [
    "\n",
    "In this notebook, Data Science Tools and Ecosystem are summarized."
   ]
  },
  {
   "cell_type": "markdown",
   "id": "315f6c2e-a1de-4f18-9a81-db91ebe5edbf",
   "metadata": {},
   "source": [
    "Objectives:\n",
    "- Learning how to do put in heading sizes.\n",
    "- Listing popular libraries in Data Science\n",
    "- Noting the different open source data tools available.\n",
    "- Showing how to add and multiply integers with code.\n",
    "- Using division to solve a math problem."
   ]
  },
  {
   "cell_type": "markdown",
   "id": "bf36b5be-9d7d-43e9-b3dd-1c31980080d5",
   "metadata": {},
   "source": [
    "Some of the popular languages that Data Scientist use are:\n",
    "1. Python\n",
    "2. R\n",
    "3. C++\n",
    "4. C\n"
   ]
  },
  {
   "cell_type": "markdown",
   "id": "9cec806d-83a4-45f9-8f30-ea05f81ce6cf",
   "metadata": {},
   "source": [
    "Some of the commonly used libraries used by Data Scientists include:\n",
    "1. Pandas\n",
    "2. ggplot\n",
    "3. Numpy\n",
    "4. Keras\n",
    "5. plotly"
   ]
  },
  {
   "cell_type": "markdown",
   "id": "9aeec3d6-3f50-445c-979a-5fb3aafd652d",
   "metadata": {},
   "source": [
    "|Data Science Tools|\n",
    "|--------|\n",
    "|Data Asset eXchange|\n",
    "|Model Asset eXchange|\n",
    "|ml-exchange.org|"
   ]
  },
  {
   "cell_type": "markdown",
   "id": "8a3f2f71-b6d1-4a08-be2d-f723a664b816",
   "metadata": {
    "tags": []
   },
   "source": [
    "### Below are a few examples of evaluating arithmetic expressions in Python."
   ]
  },
  {
   "cell_type": "code",
   "execution_count": 5,
   "id": "463e06e4-0fc0-4545-9365-d6d31a296d12",
   "metadata": {
    "tags": []
   },
   "outputs": [
    {
     "data": {
      "text/plain": [
       "17"
      ]
     },
     "execution_count": 5,
     "metadata": {},
     "output_type": "execute_result"
    }
   ],
   "source": [
    "#This is a simplw arithmetic expression to muliply and add integers.\n",
    "(3*4)+5"
   ]
  },
  {
   "cell_type": "code",
   "execution_count": 12,
   "id": "ca5fdede-4138-4315-9a89-c17c5b795cba",
   "metadata": {
    "tags": []
   },
   "outputs": [
    {
     "name": "stdout",
     "output_type": "stream",
     "text": [
      "3.3333333333333335\n"
     ]
    }
   ],
   "source": [
    "#This will convert 200 minutes to hours by dividing by 60.\n",
    "hours =(200/60)\n",
    "print(hours)\n"
   ]
  },
  {
   "cell_type": "code",
   "execution_count": null,
   "id": "d99a3627-791f-4ea1-b7ae-5b54e02ada76",
   "metadata": {},
   "outputs": [],
   "source": []
  }
 ],
 "metadata": {
  "kernelspec": {
   "display_name": "Python",
   "language": "python",
   "name": "conda-env-python-py"
  },
  "language_info": {
   "codemirror_mode": {
    "name": "ipython",
    "version": 3
   },
   "file_extension": ".py",
   "mimetype": "text/x-python",
   "name": "python",
   "nbconvert_exporter": "python",
   "pygments_lexer": "ipython3",
   "version": "3.7.12"
  }
 },
 "nbformat": 4,
 "nbformat_minor": 5
}

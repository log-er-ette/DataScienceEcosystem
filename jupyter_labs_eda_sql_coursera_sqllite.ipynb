{
  "cells": [
    {
      "cell_type": "markdown",
      "metadata": {
        "id": "view-in-github",
        "colab_type": "text"
      },
      "source": [
        "<a href=\"https://colab.research.google.com/github/log-er-ette/DataScienceEcosystem/blob/main/jupyter_labs_eda_sql_coursera_sqllite.ipynb\" target=\"_parent\"><img src=\"https://colab.research.google.com/assets/colab-badge.svg\" alt=\"Open In Colab\"/></a>"
      ]
    },
    {
      "cell_type": "markdown",
      "metadata": {
        "id": "TOfx71twM8Kl"
      },
      "source": [
        "<p style=\"text-align:center\">\n",
        "    <a href=\"https://skills.network\" target=\"_blank\">\n",
        "    <img src=\"https://cf-courses-data.s3.us.cloud-object-storage.appdomain.cloud/assets/logos/SN_web_lightmode.png\" width=\"200\" alt=\"Skills Network Logo\">\n",
        "    </a>\n",
        "</p>\n",
        "\n",
        "<h1 align=center><font size = 5>Assignment: SQL Notebook for Peer Assignment</font></h1>\n",
        "\n",
        "Estimated time needed: **60** minutes.\n",
        "\n",
        "## Introduction\n",
        "Using this Python notebook you will:\n",
        "\n",
        "1.  Understand the Spacex DataSet\n",
        "2.  Load the dataset  into the corresponding table in a Db2 database\n",
        "3.  Execute SQL queries to answer assignment questions\n"
      ]
    },
    {
      "cell_type": "markdown",
      "metadata": {
        "id": "J2iX5xKSM8Ko"
      },
      "source": [
        "## Overview of the DataSet\n",
        "\n",
        "SpaceX has gained worldwide attention for a series of historic milestones.\n",
        "\n",
        "It is the only private company ever to return a spacecraft from low-earth orbit, which it first accomplished in December 2010.\n",
        "SpaceX advertises Falcon 9 rocket launches on its website with a cost of 62 million dollars wheras other providers cost upward of 165 million dollars each, much of the savings is because Space X can reuse the first stage.\n",
        "\n",
        "\n",
        "Therefore if we can determine if the first stage will land, we can determine the cost of a launch.\n",
        "\n",
        "This information can be used if an alternate company wants to bid against SpaceX for a rocket launch.\n",
        "\n",
        "This dataset includes a record for each payload carried during a SpaceX mission into outer space.\n"
      ]
    },
    {
      "cell_type": "markdown",
      "metadata": {
        "id": "zyFTl-IFM8Kp"
      },
      "source": [
        "### Download the datasets\n",
        "\n",
        "This assignment requires you to load the spacex dataset.\n",
        "\n",
        "In many cases the dataset to be analyzed is available as a .CSV (comma separated values) file, perhaps on the internet. Click on the link below to download and save the dataset (.CSV file):\n",
        "\n",
        " <a href=\"https://cf-courses-data.s3.us.cloud-object-storage.appdomain.cloud/IBM-DS0321EN-SkillsNetwork/labs/module_2/data/Spacex.csv\" target=\"_blank\">Spacex DataSet</a>\n",
        "\n"
      ]
    },
    {
      "cell_type": "code",
      "execution_count": null,
      "metadata": {
        "id": "_N-7Iok1M8Kq",
        "outputId": "f050cc0c-6d5c-427c-993b-35cd53413911"
      },
      "outputs": [
        {
          "name": "stdout",
          "output_type": "stream",
          "text": [
            "Requirement already satisfied: sqlalchemy==2.0 in /opt/conda/lib/python3.12/site-packages (2.0.0)\n",
            "Requirement already satisfied: typing-extensions>=4.2.0 in /opt/conda/lib/python3.12/site-packages (from sqlalchemy==2.0) (4.12.2)\n",
            "Requirement already satisfied: greenlet!=0.4.17 in /opt/conda/lib/python3.12/site-packages (from sqlalchemy==2.0) (3.1.1)\n"
          ]
        }
      ],
      "source": [
        "!pip install sqlalchemy==2.0\n"
      ]
    },
    {
      "cell_type": "markdown",
      "metadata": {
        "id": "BpIYVA9MM8Ks"
      },
      "source": [
        "### Connect to the database\n",
        "\n",
        "Let us first load the SQL extension and establish a connection with the database\n"
      ]
    },
    {
      "cell_type": "code",
      "execution_count": null,
      "metadata": {
        "id": "PsyaGWwFM8Kt",
        "outputId": "40a70e50-9453-4e1d-f399-1fa87ae21c98"
      },
      "outputs": [
        {
          "name": "stdout",
          "output_type": "stream",
          "text": [
            "Collecting ipython-sql\n",
            "  Downloading ipython_sql-0.5.0-py3-none-any.whl.metadata (17 kB)\n",
            "Collecting prettytable (from ipython-sql)\n",
            "  Downloading prettytable-3.16.0-py3-none-any.whl.metadata (33 kB)\n",
            "Requirement already satisfied: ipython in /opt/conda/lib/python3.12/site-packages (from ipython-sql) (8.31.0)\n",
            "Requirement already satisfied: sqlalchemy>=2.0 in /opt/conda/lib/python3.12/site-packages (from ipython-sql) (2.0.0)\n",
            "Collecting sqlparse (from ipython-sql)\n",
            "  Downloading sqlparse-0.5.3-py3-none-any.whl.metadata (3.9 kB)\n",
            "Requirement already satisfied: six in /opt/conda/lib/python3.12/site-packages (from ipython-sql) (1.17.0)\n",
            "Requirement already satisfied: ipython-genutils in /opt/conda/lib/python3.12/site-packages (from ipython-sql) (0.2.0)\n",
            "Requirement already satisfied: typing-extensions>=4.2.0 in /opt/conda/lib/python3.12/site-packages (from sqlalchemy>=2.0->ipython-sql) (4.12.2)\n",
            "Requirement already satisfied: greenlet!=0.4.17 in /opt/conda/lib/python3.12/site-packages (from sqlalchemy>=2.0->ipython-sql) (3.1.1)\n",
            "Requirement already satisfied: decorator in /opt/conda/lib/python3.12/site-packages (from ipython->ipython-sql) (5.1.1)\n",
            "Requirement already satisfied: jedi>=0.16 in /opt/conda/lib/python3.12/site-packages (from ipython->ipython-sql) (0.19.2)\n",
            "Requirement already satisfied: matplotlib-inline in /opt/conda/lib/python3.12/site-packages (from ipython->ipython-sql) (0.1.7)\n",
            "Requirement already satisfied: pexpect>4.3 in /opt/conda/lib/python3.12/site-packages (from ipython->ipython-sql) (4.9.0)\n",
            "Requirement already satisfied: prompt_toolkit<3.1.0,>=3.0.41 in /opt/conda/lib/python3.12/site-packages (from ipython->ipython-sql) (3.0.50)\n",
            "Requirement already satisfied: pygments>=2.4.0 in /opt/conda/lib/python3.12/site-packages (from ipython->ipython-sql) (2.19.1)\n",
            "Requirement already satisfied: stack_data in /opt/conda/lib/python3.12/site-packages (from ipython->ipython-sql) (0.6.3)\n",
            "Requirement already satisfied: traitlets>=5.13.0 in /opt/conda/lib/python3.12/site-packages (from ipython->ipython-sql) (5.14.3)\n",
            "Requirement already satisfied: wcwidth in /opt/conda/lib/python3.12/site-packages (from prettytable->ipython-sql) (0.2.13)\n",
            "Requirement already satisfied: parso<0.9.0,>=0.8.4 in /opt/conda/lib/python3.12/site-packages (from jedi>=0.16->ipython->ipython-sql) (0.8.4)\n",
            "Requirement already satisfied: ptyprocess>=0.5 in /opt/conda/lib/python3.12/site-packages (from pexpect>4.3->ipython->ipython-sql) (0.7.0)\n",
            "Requirement already satisfied: executing>=1.2.0 in /opt/conda/lib/python3.12/site-packages (from stack_data->ipython->ipython-sql) (2.1.0)\n",
            "Requirement already satisfied: asttokens>=2.1.0 in /opt/conda/lib/python3.12/site-packages (from stack_data->ipython->ipython-sql) (3.0.0)\n",
            "Requirement already satisfied: pure_eval in /opt/conda/lib/python3.12/site-packages (from stack_data->ipython->ipython-sql) (0.2.3)\n",
            "Downloading ipython_sql-0.5.0-py3-none-any.whl (20 kB)\n",
            "Downloading prettytable-3.16.0-py3-none-any.whl (33 kB)\n",
            "Downloading sqlparse-0.5.3-py3-none-any.whl (44 kB)\n",
            "Installing collected packages: sqlparse, prettytable, ipython-sql\n",
            "Successfully installed ipython-sql-0.5.0 prettytable-3.16.0 sqlparse-0.5.3\n",
            "Requirement already satisfied: ipython-sql in /opt/conda/lib/python3.12/site-packages (0.5.0)\n",
            "Requirement already satisfied: prettytable in /opt/conda/lib/python3.12/site-packages (3.16.0)\n",
            "Requirement already satisfied: ipython in /opt/conda/lib/python3.12/site-packages (from ipython-sql) (8.31.0)\n",
            "Requirement already satisfied: sqlalchemy>=2.0 in /opt/conda/lib/python3.12/site-packages (from ipython-sql) (2.0.0)\n",
            "Requirement already satisfied: sqlparse in /opt/conda/lib/python3.12/site-packages (from ipython-sql) (0.5.3)\n",
            "Requirement already satisfied: six in /opt/conda/lib/python3.12/site-packages (from ipython-sql) (1.17.0)\n",
            "Requirement already satisfied: ipython-genutils in /opt/conda/lib/python3.12/site-packages (from ipython-sql) (0.2.0)\n",
            "Requirement already satisfied: wcwidth in /opt/conda/lib/python3.12/site-packages (from prettytable) (0.2.13)\n",
            "Requirement already satisfied: typing-extensions>=4.2.0 in /opt/conda/lib/python3.12/site-packages (from sqlalchemy>=2.0->ipython-sql) (4.12.2)\n",
            "Requirement already satisfied: greenlet!=0.4.17 in /opt/conda/lib/python3.12/site-packages (from sqlalchemy>=2.0->ipython-sql) (3.1.1)\n",
            "Requirement already satisfied: decorator in /opt/conda/lib/python3.12/site-packages (from ipython->ipython-sql) (5.1.1)\n",
            "Requirement already satisfied: jedi>=0.16 in /opt/conda/lib/python3.12/site-packages (from ipython->ipython-sql) (0.19.2)\n",
            "Requirement already satisfied: matplotlib-inline in /opt/conda/lib/python3.12/site-packages (from ipython->ipython-sql) (0.1.7)\n",
            "Requirement already satisfied: pexpect>4.3 in /opt/conda/lib/python3.12/site-packages (from ipython->ipython-sql) (4.9.0)\n",
            "Requirement already satisfied: prompt_toolkit<3.1.0,>=3.0.41 in /opt/conda/lib/python3.12/site-packages (from ipython->ipython-sql) (3.0.50)\n",
            "Requirement already satisfied: pygments>=2.4.0 in /opt/conda/lib/python3.12/site-packages (from ipython->ipython-sql) (2.19.1)\n",
            "Requirement already satisfied: stack_data in /opt/conda/lib/python3.12/site-packages (from ipython->ipython-sql) (0.6.3)\n",
            "Requirement already satisfied: traitlets>=5.13.0 in /opt/conda/lib/python3.12/site-packages (from ipython->ipython-sql) (5.14.3)\n",
            "Requirement already satisfied: parso<0.9.0,>=0.8.4 in /opt/conda/lib/python3.12/site-packages (from jedi>=0.16->ipython->ipython-sql) (0.8.4)\n",
            "Requirement already satisfied: ptyprocess>=0.5 in /opt/conda/lib/python3.12/site-packages (from pexpect>4.3->ipython->ipython-sql) (0.7.0)\n",
            "Requirement already satisfied: executing>=1.2.0 in /opt/conda/lib/python3.12/site-packages (from stack_data->ipython->ipython-sql) (2.1.0)\n",
            "Requirement already satisfied: asttokens>=2.1.0 in /opt/conda/lib/python3.12/site-packages (from stack_data->ipython->ipython-sql) (3.0.0)\n",
            "Requirement already satisfied: pure_eval in /opt/conda/lib/python3.12/site-packages (from stack_data->ipython->ipython-sql) (0.2.3)\n"
          ]
        }
      ],
      "source": [
        "!pip install ipython-sql\n",
        "!pip install ipython-sql prettytable"
      ]
    },
    {
      "cell_type": "code",
      "execution_count": 1,
      "metadata": {
        "id": "pkwTajPJM8Kt"
      },
      "outputs": [],
      "source": [
        "%load_ext sql"
      ]
    },
    {
      "cell_type": "code",
      "execution_count": 2,
      "metadata": {
        "id": "-f2aBS94M8Kt"
      },
      "outputs": [],
      "source": [
        "import csv, sqlite3\n",
        "import prettytable\n",
        "prettytable.DEFAULT = 'DEFAULT'\n",
        "\n",
        "con = sqlite3.connect(\"my_data1.db\")\n",
        "cur = con.cursor()"
      ]
    },
    {
      "cell_type": "code",
      "execution_count": 3,
      "metadata": {
        "id": "YOgzxrySM8Ku"
      },
      "outputs": [],
      "source": [
        "!pip install -q pandas"
      ]
    },
    {
      "cell_type": "code",
      "execution_count": 4,
      "metadata": {
        "id": "AftVYQWYM8Ku"
      },
      "outputs": [],
      "source": [
        "%sql sqlite:///my_data1.db"
      ]
    },
    {
      "cell_type": "code",
      "execution_count": 5,
      "metadata": {
        "colab": {
          "base_uri": "https://localhost:8080/"
        },
        "id": "X7sdzHSZM8Kv",
        "outputId": "dec8f698-0b0f-4ba6-f4a5-03a2ef84056e"
      },
      "outputs": [
        {
          "output_type": "execute_result",
          "data": {
            "text/plain": [
              "101"
            ]
          },
          "metadata": {},
          "execution_count": 5
        }
      ],
      "source": [
        "import pandas as pd\n",
        "df = pd.read_csv(\"https://cf-courses-data.s3.us.cloud-object-storage.appdomain.cloud/IBM-DS0321EN-SkillsNetwork/labs/module_2/data/Spacex.csv\")\n",
        "df.to_sql(\"SPACEXTBL\", con, if_exists='replace', index=False,method=\"multi\")"
      ]
    },
    {
      "cell_type": "markdown",
      "metadata": {
        "id": "uzDFUzjNM8Kv"
      },
      "source": [
        "**Note:This below code is added to remove blank rows from table**\n"
      ]
    },
    {
      "cell_type": "code",
      "execution_count": 6,
      "metadata": {
        "colab": {
          "base_uri": "https://localhost:8080/"
        },
        "id": "I4WqLYLcM8Kw",
        "outputId": "a33989f0-b120-4ffc-b88a-f87b3a83e273"
      },
      "outputs": [
        {
          "output_type": "stream",
          "name": "stdout",
          "text": [
            " * sqlite:///my_data1.db\n",
            "Done.\n"
          ]
        },
        {
          "output_type": "execute_result",
          "data": {
            "text/plain": [
              "[]"
            ]
          },
          "metadata": {},
          "execution_count": 6
        }
      ],
      "source": [
        "#DROP THE TABLE IF EXISTS\n",
        "\n",
        "%sql DROP TABLE IF EXISTS SPACEXTABLE;"
      ]
    },
    {
      "cell_type": "code",
      "execution_count": 7,
      "metadata": {
        "colab": {
          "base_uri": "https://localhost:8080/"
        },
        "id": "a54Ped2WM8Kw",
        "outputId": "16a32bb5-b51b-4040-ebe1-6fb335b59e7a"
      },
      "outputs": [
        {
          "output_type": "stream",
          "name": "stdout",
          "text": [
            " * sqlite:///my_data1.db\n",
            "Done.\n"
          ]
        },
        {
          "output_type": "execute_result",
          "data": {
            "text/plain": [
              "[]"
            ]
          },
          "metadata": {},
          "execution_count": 7
        }
      ],
      "source": [
        "%sql create table SPACEXTABLE as select * from SPACEXTBL where Date is not null"
      ]
    },
    {
      "cell_type": "markdown",
      "metadata": {
        "id": "aS30nObMM8Kx"
      },
      "source": [
        "## Tasks\n",
        "\n",
        "Now write and execute SQL queries to solve the assignment tasks.\n",
        "\n",
        "**Note: If the column names are in mixed case enclose it in double quotes\n",
        "   For Example \"Landing_Outcome\"**\n",
        "\n",
        "### Task 1\n",
        "\n",
        "\n",
        "\n",
        "\n",
        "##### Display the names of the unique launch sites  in the space mission\n"
      ]
    },
    {
      "cell_type": "code",
      "execution_count": 16,
      "metadata": {
        "colab": {
          "base_uri": "https://localhost:8080/"
        },
        "id": "Km0gtdh_M8Kx",
        "outputId": "bb8317fc-af9a-4b1f-8f72-4817332468d7"
      },
      "outputs": [
        {
          "output_type": "stream",
          "name": "stdout",
          "text": [
            "    Launch_Site\n",
            "0   CCAFS LC-40\n",
            "1  CCAFS SLC-40\n",
            "2    KSC LC-39A\n",
            "3   VAFB SLC-4E\n"
          ]
        }
      ],
      "source": [
        "query_1 = 'SELECT \"Launch_Site\" FROM SPACEXTBL GROUP BY \"Launch_Site\"'\n",
        "result_1 = pd.read_sql(query_1, con)\n",
        "\n",
        "# Display the result\n",
        "print(result_1)"
      ]
    },
    {
      "cell_type": "markdown",
      "metadata": {
        "id": "n_HrJYxIM8Ky"
      },
      "source": [
        "\n",
        "### Task 2\n",
        "\n",
        "\n",
        "#####  Display 5 records where launch sites begin with the string 'CCA'\n"
      ]
    },
    {
      "cell_type": "code",
      "execution_count": 17,
      "metadata": {
        "colab": {
          "base_uri": "https://localhost:8080/"
        },
        "id": "TFGe5xSkM8Ky",
        "outputId": "4ce68fc3-d3f4-48f5-b6ed-fc9067ab3540"
      },
      "outputs": [
        {
          "output_type": "stream",
          "name": "stdout",
          "text": [
            "         Date Time (UTC) Booster_Version  Launch_Site  \\\n",
            "0  2010-06-04   18:45:00  F9 v1.0  B0003  CCAFS LC-40   \n",
            "1  2010-12-08   15:43:00  F9 v1.0  B0004  CCAFS LC-40   \n",
            "2  2012-05-22    7:44:00  F9 v1.0  B0005  CCAFS LC-40   \n",
            "3  2012-10-08    0:35:00  F9 v1.0  B0006  CCAFS LC-40   \n",
            "4  2013-03-01   15:10:00  F9 v1.0  B0007  CCAFS LC-40   \n",
            "\n",
            "                                             Payload  PAYLOAD_MASS__KG_  \\\n",
            "0               Dragon Spacecraft Qualification Unit                  0   \n",
            "1  Dragon demo flight C1, two CubeSats, barrel of...                  0   \n",
            "2                              Dragon demo flight C2                525   \n",
            "3                                       SpaceX CRS-1                500   \n",
            "4                                       SpaceX CRS-2                677   \n",
            "\n",
            "       Orbit         Customer Mission_Outcome      Landing_Outcome  \n",
            "0        LEO           SpaceX         Success  Failure (parachute)  \n",
            "1  LEO (ISS)  NASA (COTS) NRO         Success  Failure (parachute)  \n",
            "2  LEO (ISS)      NASA (COTS)         Success           No attempt  \n",
            "3  LEO (ISS)       NASA (CRS)         Success           No attempt  \n",
            "4  LEO (ISS)       NASA (CRS)         Success           No attempt  \n"
          ]
        }
      ],
      "source": [
        "query_2 = 'SELECT * FROM SPACEXTBL WHERE \"Launch_Site\" LIKE \"CCA%\" LIMIT 5'\n",
        "result_2 = pd.read_sql(query_2, con)\n",
        "\n",
        "# Display the result\n",
        "print(result_2)\n"
      ]
    },
    {
      "cell_type": "markdown",
      "metadata": {
        "id": "zcqAEDzXM8Kz"
      },
      "source": [
        "### Task 3\n",
        "\n",
        "\n",
        "\n",
        "\n",
        "##### Display the total payload mass carried by boosters launched by NASA (CRS)\n"
      ]
    },
    {
      "cell_type": "code",
      "execution_count": 25,
      "metadata": {
        "colab": {
          "base_uri": "https://localhost:8080/"
        },
        "id": "XO9zGxKvM8Kz",
        "outputId": "6342d741-5dde-4337-c0e3-f792100378ad"
      },
      "outputs": [
        {
          "output_type": "stream",
          "name": "stdout",
          "text": [
            "  SUM(\"Payload\")\n",
            "0           None\n"
          ]
        }
      ],
      "source": [
        "query_3 = 'SELECT SUM(\"Payload\") FROM SPACEXTBL WHERE \"Launch_Site\" LIKE \"%NASA%\"'\n",
        "result_3 = pd.read_sql(query_3, con)\n",
        "\n",
        "# Display the result\n",
        "print(result_3)\n"
      ]
    },
    {
      "cell_type": "markdown",
      "metadata": {
        "id": "h-H0HJN6M8Kz"
      },
      "source": [
        "### Task 4\n",
        "\n",
        "\n",
        "\n",
        "\n",
        "##### Display average payload mass carried by booster version F9 v1.1\n"
      ]
    },
    {
      "cell_type": "code",
      "execution_count": 23,
      "metadata": {
        "colab": {
          "base_uri": "https://localhost:8080/"
        },
        "id": "DHQA2FNOM8K0",
        "outputId": "cd683ef3-b2ec-441d-bbff-48a3049d2e51"
      },
      "outputs": [
        {
          "output_type": "stream",
          "name": "stdout",
          "text": [
            "  AVG(\"PAYLOAD_MASS_KG_\")\n",
            "0                    None\n"
          ]
        }
      ],
      "source": [
        "query_4 = 'SELECT AVG(\"PAYLOAD_MASS_KG_\") FROM SPACEXTBL WHERE \"Booster_Version\" = \"Falcon 9\"'\n",
        "result_4 = pd.read_sql(query_4, con)\n",
        "\n",
        "# Display the result\n",
        "print(result_4)"
      ]
    },
    {
      "cell_type": "markdown",
      "metadata": {
        "id": "n568NU2BM8K0"
      },
      "source": [
        "### Task 5\n",
        "\n",
        "##### List the date when the first succesful landing outcome in ground pad was acheived.\n",
        "\n",
        "\n",
        "_Hint:Use min function_\n"
      ]
    },
    {
      "cell_type": "code",
      "execution_count": 26,
      "metadata": {
        "colab": {
          "base_uri": "https://localhost:8080/"
        },
        "id": "b0cA95BoM8K0",
        "outputId": "8d7d5993-369d-4772-9510-727e5e022fbe"
      },
      "outputs": [
        {
          "output_type": "stream",
          "name": "stdout",
          "text": [
            "  MIN(\"Date\")\n",
            "0  2015-12-22\n"
          ]
        }
      ],
      "source": [
        "query_5 = 'SELECT MIN(\"Date\") FROM SPACEXTBL WHERE \"Landing_Outcome\" = \"Success (ground pad)\"'\n",
        "result_5 = pd.read_sql(query_5, con)\n",
        "\n",
        "# Display the result\n",
        "print(result_5)"
      ]
    },
    {
      "cell_type": "markdown",
      "metadata": {
        "id": "bZCcuCufM8K1"
      },
      "source": [
        "### Task 6\n",
        "\n",
        "##### List the names of the boosters which have success in drone ship and have payload mass greater than 4000 but less than 6000\n"
      ]
    },
    {
      "cell_type": "code",
      "execution_count": 31,
      "metadata": {
        "colab": {
          "base_uri": "https://localhost:8080/"
        },
        "id": "_AHJsX1XM8K1",
        "outputId": "d0f95dd9-7d32-4ef6-c6da-b10afa779d6a"
      },
      "outputs": [
        {
          "output_type": "stream",
          "name": "stdout",
          "text": [
            "Empty DataFrame\n",
            "Columns: [\"BoosterVersion\"]\n",
            "Index: []\n"
          ]
        }
      ],
      "source": [
        "query_6 = 'SELECT \"BoosterVersion\" FROM SPACEXTBL WHERE \"Landing_Outcome\" = \"Success ()\" AND \"PAYLOAD_MASS__KG_\" > 4000 AND \"PAYLOAD_MASS__KG_\" < 6000'\n",
        "result_6 = pd.read_sql(query_6, con)\n",
        "print(result_6)"
      ]
    },
    {
      "cell_type": "markdown",
      "metadata": {
        "id": "t5GhcMsQM8K1"
      },
      "source": [
        "### Task 7\n",
        "\n",
        "\n",
        "\n",
        "\n",
        "##### List the total number of successful and failure mission outcomes\n"
      ]
    },
    {
      "cell_type": "code",
      "execution_count": 28,
      "metadata": {
        "colab": {
          "base_uri": "https://localhost:8080/"
        },
        "id": "YGlNqxopM8K2",
        "outputId": "959b24de-77b3-4289-d9a0-3f7dc04dcd43"
      },
      "outputs": [
        {
          "output_type": "stream",
          "name": "stdout",
          "text": [
            "                    Mission_Outcome  COUNT(*)\n",
            "0               Failure (in flight)         1\n",
            "1                           Success        98\n",
            "2                          Success          1\n",
            "3  Success (payload status unclear)         1\n"
          ]
        }
      ],
      "source": [
        "query_7 = 'SELECT \"Mission_Outcome\", COUNT(*) FROM SPACEXTBL GROUP BY \"Mission_Outcome\"'\n",
        "result_7 = pd.read_sql(query_7, con)\n",
        "\n",
        "# Display the result\n",
        "print(result_7)"
      ]
    },
    {
      "cell_type": "markdown",
      "metadata": {
        "id": "PfGeqpzeM8K2"
      },
      "source": [
        "### Task 8\n",
        "\n",
        "\n",
        "\n",
        "##### List all the booster_versions that have carried the maximum payload mass. Use a subquery.\n"
      ]
    },
    {
      "cell_type": "code",
      "execution_count": 32,
      "metadata": {
        "colab": {
          "base_uri": "https://localhost:8080/"
        },
        "id": "2S0110nbM8K2",
        "outputId": "4b08a8cc-7926-4a0d-85f3-f30f6608da49"
      },
      "outputs": [
        {
          "output_type": "stream",
          "name": "stdout",
          "text": [
            "   Booster_Version\n",
            "0    F9 B5 B1048.4\n",
            "1    F9 B5 B1049.4\n",
            "2    F9 B5 B1051.3\n",
            "3    F9 B5 B1056.4\n",
            "4    F9 B5 B1048.5\n",
            "5    F9 B5 B1051.4\n",
            "6    F9 B5 B1049.5\n",
            "7   F9 B5 B1060.2 \n",
            "8   F9 B5 B1058.3 \n",
            "9    F9 B5 B1051.6\n",
            "10   F9 B5 B1060.3\n",
            "11  F9 B5 B1049.7 \n"
          ]
        }
      ],
      "source": [
        "query_8 = 'SELECT \"Booster_Version\" FROM SPACEXTBL WHERE \"PAYLOAD_MASS__KG_\" = (SELECT MAX(\"PAYLOAD_MASS__KG_\") FROM SPACEXTBL)'\n",
        "result_8 = pd.read_sql(query_8, con)\n",
        "\n",
        "# Display the result\n",
        "print(result_8)"
      ]
    },
    {
      "cell_type": "markdown",
      "metadata": {
        "id": "fPs5Cpd-M8K3"
      },
      "source": [
        "### Task 9\n",
        "\n",
        "\n",
        "##### List the records which will display the month names, failure landing_outcomes in drone ship ,booster versions, launch_site for the months in year 2015.\n",
        "\n",
        "**Note: SQLLite does not support monthnames. So you need to use  substr(Date, 6,2) as month to get the months and substr(Date,0,5)='2015' for year.**\n"
      ]
    },
    {
      "cell_type": "code",
      "execution_count": 33,
      "metadata": {
        "colab": {
          "base_uri": "https://localhost:8080/"
        },
        "id": "ONLYpUd7M8K3",
        "outputId": "ca8d9110-25c7-4cd0-f9d0-992932b13231"
      },
      "outputs": [
        {
          "output_type": "stream",
          "name": "stdout",
          "text": [
            "  Month       Landing_Outcome Booster_Version  Launch_Site\n",
            "0    01  Failure (drone ship)   F9 v1.1 B1012  CCAFS LC-40\n",
            "1    04  Failure (drone ship)   F9 v1.1 B1015  CCAFS LC-40\n"
          ]
        }
      ],
      "source": [
        "query_9 = 'SELECT substr(\"Date\", 6,2) AS \"Month\", \"Landing_Outcome\", \"Booster_Version\", \"Launch_Site\" FROM SPACEXTBL WHERE substr(\"Date\",0,5) = \"2015\" AND \"Landing_Outcome\" = \"Failure (drone ship)\"'\n",
        "result_9 = pd.read_sql(query_9, con)\n",
        "print(result_9)"
      ]
    },
    {
      "cell_type": "markdown",
      "metadata": {
        "id": "I7AeYKh9M8K4"
      },
      "source": [
        "### Task 10\n",
        "\n",
        "\n",
        "\n",
        "\n",
        "##### Rank the count of landing outcomes (such as Failure (drone ship) or Success (ground pad)) between the date 2010-06-04 and 2017-03-20, in descending order.\n"
      ]
    },
    {
      "cell_type": "code",
      "execution_count": 40,
      "metadata": {
        "colab": {
          "base_uri": "https://localhost:8080/"
        },
        "id": "KOwwHKnxM8K4",
        "outputId": "534e7e53-a9ae-47d7-f1ed-42c5fd47a2d7"
      },
      "outputs": [
        {
          "output_type": "stream",
          "name": "stdout",
          "text": [
            "          Landing_Outcome\n",
            "0      Controlled (ocean)\n",
            "1    Failure (drone ship)\n",
            "2     Failure (parachute)\n",
            "3              No attempt\n",
            "4  Precluded (drone ship)\n",
            "5    Success (drone ship)\n",
            "6    Success (ground pad)\n",
            "7    Uncontrolled (ocean)\n"
          ]
        }
      ],
      "source": [
        "query_10 = 'SELECT \"Landing_Outcome\" FROM SPACEXTBL WHERE \"Date\" BETWEEN \"2010-06-04\" AND \"2017-03-20\" GROUP BY \"Landing_Outcome\"'\n",
        "result_10 = pd.read_sql(query_10, con)\n",
        "print(result_10)"
      ]
    },
    {
      "cell_type": "markdown",
      "metadata": {
        "id": "1hAk4OUHM8K5"
      },
      "source": [
        "### Reference Links\n",
        "\n",
        "* <a href =\"https://cf-courses-data.s3.us.cloud-object-storage.appdomain.cloud/IBMDeveloperSkillsNetwork-DB0201EN-SkillsNetwork/labs/Labs_Coursera_V5/labs/Lab%20-%20String%20Patterns%20-%20Sorting%20-%20Grouping/instructional-labs.md.html?origin=www.coursera.org\">Hands-on Lab : String Patterns, Sorting and Grouping</a>  \n",
        "\n",
        "*  <a  href=\"https://cf-courses-data.s3.us.cloud-object-storage.appdomain.cloud/IBMDeveloperSkillsNetwork-DB0201EN-SkillsNetwork/labs/Labs_Coursera_V5/labs/Lab%20-%20Built-in%20functions%20/Hands-on_Lab__Built-in_Functions.md.html?origin=www.coursera.org\">Hands-on Lab: Built-in functions</a>\n",
        "\n",
        "*  <a  href=\"https://cf-courses-data.s3.us.cloud-object-storage.appdomain.cloud/IBMDeveloperSkillsNetwork-DB0201EN-SkillsNetwork/labs/Labs_Coursera_V5/labs/Lab%20-%20Sub-queries%20and%20Nested%20SELECTs%20/instructional-labs.md.html?origin=www.coursera.org\">Hands-on Lab : Sub-queries and Nested SELECT Statements</a>\n",
        "\n",
        "*   <a href=\"https://cf-courses-data.s3.us.cloud-object-storage.appdomain.cloud/IBMDeveloperSkillsNetwork-DB0201EN-SkillsNetwork/labs/Module%205/DB0201EN-Week3-1-3-SQLmagic.ipynb\">Hands-on Tutorial: Accessing Databases with SQL magic</a>\n",
        "\n",
        "*  <a href= \"https://cf-courses-data.s3.us.cloud-object-storage.appdomain.cloud/IBMDeveloperSkillsNetwork-DB0201EN-SkillsNetwork/labs/Module%205/DB0201EN-Week3-1-4-Analyzing.ipynb\">Hands-on Lab: Analyzing a real World Data Set</a>\n",
        "\n",
        "\n"
      ]
    },
    {
      "cell_type": "markdown",
      "metadata": {
        "id": "5g9Gmzr6M8K5"
      },
      "source": [
        "## Author(s)\n",
        "\n",
        "<h4> Lakshmi Holla </h4>\n"
      ]
    },
    {
      "cell_type": "markdown",
      "metadata": {
        "id": "_Xmil0pXM8K5"
      },
      "source": [
        "## Other Contributors\n",
        "\n",
        "<h4> Rav Ahuja </h4>\n"
      ]
    },
    {
      "cell_type": "markdown",
      "metadata": {
        "id": "pCtfzAZ5M8K5"
      },
      "source": [
        "<!--\n",
        "## Change log\n",
        "| Date | Version | Changed by | Change Description |\n",
        "|------|--------|--------|---------|\n",
        "| 2024-07-10 | 1.1 |Anita Verma | Changed Version|\n",
        "| 2021-07-09 | 0.2 |Lakshmi Holla | Changes made in magic sql|\n",
        "| 2021-05-20 | 0.1 |Lakshmi Holla | Created Initial Version |\n",
        "-->\n"
      ]
    },
    {
      "cell_type": "markdown",
      "metadata": {
        "id": "fQfIoG-zM8K6"
      },
      "source": [
        "## <h3 align=\"center\"> © IBM Corporation 2021. All rights reserved. <h3/>\n"
      ]
    }
  ],
  "metadata": {
    "kernelspec": {
      "display_name": "Python 3 (ipykernel)",
      "language": "python",
      "name": "python3"
    },
    "language_info": {
      "codemirror_mode": {
        "name": "ipython",
        "version": 3
      },
      "file_extension": ".py",
      "mimetype": "text/x-python",
      "name": "python",
      "nbconvert_exporter": "python",
      "pygments_lexer": "ipython3",
      "version": "3.12.8"
    },
    "prev_pub_hash": "18774c8928e6c688c0fbec1a14775f2c11e247049ea3a108a4750dd06f4672bb",
    "colab": {
      "provenance": [],
      "include_colab_link": true
    }
  },
  "nbformat": 4,
  "nbformat_minor": 0
}
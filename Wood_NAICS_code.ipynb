{
  "nbformat": 4,
  "nbformat_minor": 0,
  "metadata": {
    "colab": {
      "provenance": [],
      "authorship_tag": "ABX9TyMD8Jco4OcRKxqSRAwmNZU+",
      "include_colab_link": true
    },
    "kernelspec": {
      "name": "python3",
      "display_name": "Python 3"
    },
    "language_info": {
      "name": "python"
    }
  },
  "cells": [
    {
      "cell_type": "markdown",
      "metadata": {
        "id": "view-in-github",
        "colab_type": "text"
      },
      "source": [
        "<a href=\"https://colab.research.google.com/github/log-er-ette/DataScienceEcosystem/blob/main/Wood_NAICS_code.ipynb\" target=\"_parent\"><img src=\"https://colab.research.google.com/assets/colab-badge.svg\" alt=\"Open In Colab\"/></a>"
      ]
    },
    {
      "cell_type": "code",
      "execution_count": null,
      "metadata": {
        "id": "FGWh1J2cdbZm"
      },
      "outputs": [],
      "source": [
        "import pandas as pd\n",
        "# For Colab:\n",
        "# from google.colab import files\n",
        "# uploaded = files.upload() # This uploads from your computer\n",
        "# file_name = list(uploaded.keys())[0]\n",
        "# df = pd.read_csv(file_name)\n",
        "\n",
        "# For Kaggle (upload or use dataset path):\n",
        "# Assuming file is named 'federal_contracts.csv' in the input directory\n",
        "# import os\n",
        "# for dirname, _, filenames in os.walk('/kaggle/input'):\n",
        "#     for filename in filenames:\n",
        "#         print(os.path.join(dirname, filename))\n",
        "# file_path = '/kaggle/input/your-dataset-folder/federal_contracts.csv' # Adjust path\n",
        "# df = pd.read_csv(file_path)\n",
        "\n",
        "# General method (if file is in session storage after upload):\n",
        "df = pd.read_csv('NAICS_321912.csv', 'NAICS_321920.csv', 'NAICS_321992.csv', 'NAICS_321999.csv') # Replace with actual filename"
      ]
    },
    {
      "cell_type": "code",
      "source": [
        "relevant_naics = ['3211', '3212', '3219'] # Add others as needed\n",
        "# Ensure NAICS column is string type before checking `.str.startswith` or `.isin`\n",
        "df['NAICS_Code'] = df['NAICS_Code'].astype(str)\n",
        "wood_contracts_df = df[df['NAICS_Code'].str.startswith(('321')) |\n",
        "                       df['NAICS_Code'].isin(relevant_naics)].copy() # Use .isin for specific codes"
      ],
      "metadata": {
        "id": "3Zw2y5kYeGZy"
      },
      "execution_count": null,
      "outputs": []
    },
    {
      "cell_type": "code",
      "source": [
        "ne_states = ['ME', 'VT', 'NH', 'MA', 'RI', 'CT', 'NY', 'PA', 'NJ']\n",
        "# Assuming a 'Awardee_State' column\n",
        "ne_wood_contracts_df = wood_contracts_df[wood_contracts_df['Awardee_State'].isin(ne_states)].copy()"
      ],
      "metadata": {
        "id": "Y9bzYEUbeKEn"
      },
      "execution_count": null,
      "outputs": []
    },
    {
      "cell_type": "code",
      "source": [
        "naics_summary = ne_wood_contracts_df.groupby('NAICS_Code')['Contract_Amount'].sum().sort_values(ascending=False)\n",
        "print(naics_summary)"
      ],
      "metadata": {
        "id": "edgCMMiBeRX8"
      },
      "execution_count": null,
      "outputs": []
    },
    {
      "cell_type": "code",
      "source": [
        "import matplotlib.pyplot as plt\n",
        "import seaborn as sns\n",
        "\n",
        "plt.figure(figsize=(10, 6))\n",
        "sns.barplot(x=naics_summary.index, y=naics_summary.values)\n",
        "plt.xticks(rotation=45, ha='right')\n",
        "plt.xlabel('NAICS Code')\n",
        "plt.ylabel('Total Contract Amount (USD)')\n",
        "plt.title('Federal Wood Product Contract Amount by NAICS (Northeast US)')\n",
        "plt.tight_layout()\n",
        "plt.show()"
      ],
      "metadata": {
        "id": "Ud91nD-_eUb3"
      },
      "execution_count": null,
      "outputs": []
    }
  ]
}